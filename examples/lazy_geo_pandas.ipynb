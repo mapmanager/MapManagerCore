{
 "cells": [
  {
   "cell_type": "code",
   "execution_count": 1,
   "metadata": {},
   "outputs": [],
   "source": [
    "%load_ext autoreload\n",
    "%autoreload 2"
   ]
  },
  {
   "cell_type": "code",
   "execution_count": 2,
   "metadata": {},
   "outputs": [],
   "source": [
    "from mapmanagercore.lazy_geo_pandas import schema, calculated, LazyGeoFrame\n",
    "\n",
    "\n",
    "@schema(index=[\"b\", \"t\"])\n",
    "class B:\n",
    "    t: int = 1\n",
    "    b: int = 5\n",
    "    c: int = 6\n",
    "\n",
    "\n",
    "@schema(index=[\"a\", \"t\"], relationships={\n",
    "    B: [\"b\", 't']\n",
    "}, properties={\n",
    "    \"a\": {\n",
    "        \"categorical\": False,\n",
    "        \"title\": \"A\"\n",
    "    },\n",
    "    \"t\": {\n",
    "        \"categorical\": True,\n",
    "        \"title\": \"Time\"\n",
    "    }\n",
    "})\n",
    "class A:\n",
    "    a: int = 3\n",
    "    t: int\n",
    "    b: int\n",
    "\n",
    "    @calculated(title=\"Test\", dependencies=[\"b\", \"c\"])\n",
    "    def calculatedTest(frame: LazyGeoFrame):\n",
    "        return frame[\"b\"]\n",
    "\n",
    "    @calculated(title=\"Test2\", dependencies={\"A\": [\"calculatedTest\"]})\n",
    "    def calculatedTest2(frame: LazyGeoFrame):\n",
    "        return frame[\"b\"]\n",
    "\n",
    "\n",
    "aFrame = LazyGeoFrame(A)\n",
    "bFrame = LazyGeoFrame(B)\n",
    "aFrame.update((1, 2), A(b=2))\n",
    "aFrame.update((2, 2), A(b=2))\n",
    "bFrame.update((2, 2), B(c=3))"
   ]
  },
  {
   "cell_type": "code",
   "execution_count": 3,
   "metadata": {},
   "outputs": [
    {
     "name": "stdout",
     "output_type": "stream",
     "text": [
      "A(a=unassigned, t=2, b=1)\n",
      "A(a=3, t=unassigned, b=unassigned)\n"
     ]
    }
   ],
   "source": [
    "print(A(b=1, t=2))\n",
    "print(A.withDefaults())"
   ]
  },
  {
   "cell_type": "code",
   "execution_count": 4,
   "metadata": {},
   "outputs": [],
   "source": [
    "aFrame.redo()"
   ]
  },
  {
   "cell_type": "code",
   "execution_count": 5,
   "metadata": {},
   "outputs": [],
   "source": [
    "aFrame.update((1, 2), A(a=1, t=2, b=3))\n"
   ]
  },
  {
   "cell_type": "code",
   "execution_count": 6,
   "metadata": {},
   "outputs": [
    {
     "data": {
      "text/html": [
       "<div>\n",
       "<style scoped>\n",
       "    .dataframe tbody tr th:only-of-type {\n",
       "        vertical-align: middle;\n",
       "    }\n",
       "\n",
       "    .dataframe tbody tr th {\n",
       "        vertical-align: top;\n",
       "    }\n",
       "\n",
       "    .dataframe thead th {\n",
       "        text-align: right;\n",
       "    }\n",
       "</style>\n",
       "<table border=\"1\" class=\"dataframe\">\n",
       "  <thead>\n",
       "    <tr style=\"text-align: right;\">\n",
       "      <th></th>\n",
       "      <th></th>\n",
       "      <th>b</th>\n",
       "      <th>calculatedTest</th>\n",
       "      <th>calculatedTest2</th>\n",
       "    </tr>\n",
       "    <tr>\n",
       "      <th>a</th>\n",
       "      <th>t</th>\n",
       "      <th></th>\n",
       "      <th></th>\n",
       "      <th></th>\n",
       "    </tr>\n",
       "  </thead>\n",
       "  <tbody>\n",
       "    <tr>\n",
       "      <th>1</th>\n",
       "      <th>2</th>\n",
       "      <td>3</td>\n",
       "      <td>3</td>\n",
       "      <td>3</td>\n",
       "    </tr>\n",
       "    <tr>\n",
       "      <th>2</th>\n",
       "      <th>2</th>\n",
       "      <td>2</td>\n",
       "      <td>2</td>\n",
       "      <td>2</td>\n",
       "    </tr>\n",
       "  </tbody>\n",
       "</table>\n",
       "</div>"
      ],
      "text/plain": [
       "     b  calculatedTest  calculatedTest2\n",
       "a t                                    \n",
       "1 2  3               3                3\n",
       "2 2  2               2                2"
      ]
     },
     "execution_count": 6,
     "metadata": {},
     "output_type": "execute_result"
    }
   ],
   "source": [
    "aFrame[:]"
   ]
  }
 ],
 "metadata": {
  "kernelspec": {
   "display_name": "base",
   "language": "python",
   "name": "python3"
  },
  "language_info": {
   "codemirror_mode": {
    "name": "ipython",
    "version": 3
   },
   "file_extension": ".py",
   "mimetype": "text/x-python",
   "name": "python",
   "nbconvert_exporter": "python",
   "pygments_lexer": "ipython3",
   "version": "3.11.6"
  }
 },
 "nbformat": 4,
 "nbformat_minor": 2
}
