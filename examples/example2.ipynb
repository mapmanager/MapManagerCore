{
 "cells": [
  {
   "cell_type": "code",
   "execution_count": 3,
   "metadata": {},
   "outputs": [],
   "source": [
    "%load_ext autoreload\n",
    "%autoreload 2"
   ]
  },
  {
   "cell_type": "code",
   "execution_count": 44,
   "metadata": {},
   "outputs": [],
   "source": [
    "from mapmanagercore import MapAnnotations, MultiImageLoader\n",
    "import mapmanagercore.data\n",
    "\n",
    "import pandas as pd\n",
    "import matplotlib.pyplot as plt"
   ]
  },
  {
   "cell_type": "code",
   "execution_count": 46,
   "metadata": {},
   "outputs": [],
   "source": [
    "def loadImages():\n",
    "    # Create an image loader\n",
    "    loader = MultiImageLoader()\n",
    "\n",
    "    # tp0\n",
    "    ch1 = '/Users/cudmore/Sites/PyMapManager-Data/maps/rr30a/rr30a_s0_ch1.tif'\n",
    "    ch2 = '/Users/cudmore/Sites/PyMapManager-Data/maps/rr30a/rr30a_s0_ch2.tif'\n",
    "    loader.read(ch1, channel=0)\n",
    "    loader.read(ch2, channel=1)\n",
    "\n",
    "    # tp1\n",
    "    ch1 = '/Users/cudmore/Sites/PyMapManager-Data/maps/rr30a/rr30a_s1_ch1.tif'\n",
    "    ch2 = '/Users/cudmore/Sites/PyMapManager-Data/maps/rr30a/rr30a_s1_ch2.tif'\n",
    "    loader.read(ch1, channel=0, time=1)\n",
    "    loader.read(ch2, channel=1, time=1)\n",
    "\n",
    "    # tp2\n",
    "    ch1 = '/Users/cudmore/Sites/PyMapManager-Data/maps/rr30a/rr30a_s2_ch1.tif'\n",
    "    ch2 = '/Users/cudmore/Sites/PyMapManager-Data/maps/rr30a/rr30a_s2_ch2.tif'\n",
    "    loader.read(ch1, channel=0, time=2)\n",
    "    loader.read(ch2, channel=1, time=2)\n",
    "\n",
    "    # tp3\n",
    "    ch1 = '/Users/cudmore/Sites/PyMapManager-Data/maps/rr30a/rr30a_s3_ch1.tif'\n",
    "    ch2 = '/Users/cudmore/Sites/PyMapManager-Data/maps/rr30a/rr30a_s3_ch2.tif'\n",
    "    loader.read(ch1, channel=0, time=3)\n",
    "    loader.read(ch2, channel=1, time=3)\n",
    "\n",
    "    # tp4\n",
    "    ch1 = '/Users/cudmore/Sites/PyMapManager-Data/maps/rr30a/rr30a_s4_ch1.tif'\n",
    "    ch2 = '/Users/cudmore/Sites/PyMapManager-Data/maps/rr30a/rr30a_s4_ch2.tif'\n",
    "    loader.read(ch1, channel=0, time=4)\n",
    "    loader.read(ch2, channel=1, time=4)\n",
    "\n",
    "\n",
    "    # Create the annotation map\n",
    "    map = MapAnnotations(loader.build())\n",
    "    map.points[:]\n",
    "    map.segments[:]\n",
    "\n",
    "    # save the annotation map\n",
    "    # map.save(\"../data/two_timepoint.mmap\")\n",
    "    map.close()\n",
    "\n",
    "    return map"
   ]
  },
  {
   "cell_type": "code",
   "execution_count": 41,
   "metadata": {},
   "outputs": [
    {
     "name": "stdout",
     "output_type": "stream",
     "text": [
      "map:<class 'mapmanagercore.annotations.mutation.AnnotationsBaseMut'>\n",
      "tp:<class 'mapmanagercore.annotations.single_time_point.layers.AnnotationsLayers'>\n",
      "t:5, points:0 segments:0\n",
      "  tp:0 shape:(2, 70, 1024, 1024)\n",
      "  tp:1 shape:(2, 65, 1024, 1024)\n",
      "  tp:2 shape:(2, 70, 1024, 1024)\n",
      "  tp:3 shape:(2, 70, 1024, 1024)\n",
      "  tp:4 shape:(2, 70, 1024, 1024)\n",
      "\n"
     ]
    }
   ],
   "source": [
    "\n",
    "# map.getNumTimepoints()"
   ]
  },
  {
   "cell_type": "code",
   "execution_count": 53,
   "metadata": {},
   "outputs": [
    {
     "name": "stdout",
     "output_type": "stream",
     "text": [
      "   INFO - schema.py setColumnTypes() line:145 -- drop=True\n",
      "   INFO - schema.py setColumnTypes() line:145 -- drop=True\n",
      "map:<class 'mapmanagercore.annotations.mutation.AnnotationsBaseMut'>\n",
      "tp:<class 'mapmanagercore.annotations.single_time_point.layers.AnnotationsLayers'>\n",
      "t:5, points:0 segments:0\n",
      "  tp:0 shape:(2, 70, 1024, 1024)\n",
      "  tp:1 shape:(2, 65, 1024, 1024)\n",
      "  tp:2 shape:(2, 70, 1024, 1024)\n",
      "  tp:3 shape:(2, 70, 1024, 1024)\n",
      "  tp:4 shape:(2, 70, 1024, 1024)\n",
      "\n",
      "got tp:0 t:single timepoint, points:0 segments:0 images:(2, 70, 1024, 1024)\n",
      "  newSegmentID:0\n",
      "  newSegmentID:1\n",
      "  newSegmentID:2\n",
      "  newSegmentID:3\n",
      "  newSegmentID:4\n",
      "got tp:1 t:single timepoint, points:0 segments:5 images:(2, 65, 1024, 1024)\n",
      "  newSegmentID:5\n",
      "  newSegmentID:6\n",
      "  newSegmentID:7\n",
      "  newSegmentID:8\n",
      "  newSegmentID:9\n",
      "got tp:2 t:single timepoint, points:0 segments:10 images:(2, 70, 1024, 1024)\n"
     ]
    },
    {
     "ename": "IndexError",
     "evalue": "list index out of range",
     "output_type": "error",
     "traceback": [
      "\u001b[0;31m---------------------------------------------------------------------------\u001b[0m",
      "\u001b[0;31mIndexError\u001b[0m                                Traceback (most recent call last)",
      "Cell \u001b[0;32mIn[53], line 24\u001b[0m\n\u001b[1;32m     21\u001b[0m tp \u001b[38;5;241m=\u001b[39m \u001b[38;5;28mmap\u001b[39m\u001b[38;5;241m.\u001b[39mgetTimePoint(time\u001b[38;5;241m=\u001b[39mtpNumber)\n\u001b[1;32m     22\u001b[0m \u001b[38;5;28mprint\u001b[39m(\u001b[38;5;124mf\u001b[39m\u001b[38;5;124m'\u001b[39m\u001b[38;5;124mgot tp:\u001b[39m\u001b[38;5;132;01m{\u001b[39;00mtpNumber\u001b[38;5;132;01m}\u001b[39;00m\u001b[38;5;124m \u001b[39m\u001b[38;5;132;01m{\u001b[39;00mtp\u001b[38;5;132;01m}\u001b[39;00m\u001b[38;5;124m'\u001b[39m)\n\u001b[0;32m---> 24\u001b[0m segmentCsv \u001b[38;5;241m=\u001b[39m \u001b[43msegmentCsvList\u001b[49m\u001b[43m[\u001b[49m\u001b[43mtpNumber\u001b[49m\u001b[43m]\u001b[49m\n\u001b[1;32m     25\u001b[0m dfSegments \u001b[38;5;241m=\u001b[39m pd\u001b[38;5;241m.\u001b[39mread_csv(segmentCsv, header\u001b[38;5;241m=\u001b[39m\u001b[38;5;241m1\u001b[39m)\n\u001b[1;32m     27\u001b[0m theseCols \u001b[38;5;241m=\u001b[39m [\u001b[38;5;124m'\u001b[39m\u001b[38;5;124msegmentID\u001b[39m\u001b[38;5;124m'\u001b[39m, \u001b[38;5;124m'\u001b[39m\u001b[38;5;124mx\u001b[39m\u001b[38;5;124m'\u001b[39m, \u001b[38;5;124m'\u001b[39m\u001b[38;5;124my\u001b[39m\u001b[38;5;124m'\u001b[39m, \u001b[38;5;124m'\u001b[39m\u001b[38;5;124mz\u001b[39m\u001b[38;5;124m'\u001b[39m]\n",
      "\u001b[0;31mIndexError\u001b[0m: list index out of range"
     ]
    }
   ],
   "source": [
    "map = loadImages()\n",
    "\n",
    "print(f'map:{type(map)}')\n",
    "print(f'tp:{type(map.getTimePoint(0))}')\n",
    "print(map)\n",
    "\n",
    "# add segments to tp0\n",
    "# for tp0, this adds 2121 segment points and takes ~30 sec\n",
    "\n",
    "segmentCsvList = [\n",
    "    '/Users/cudmore/Sites/PyMapManager-Data/maps/rr30a/rr30a_s0/rr30a_s0_la.txt',\n",
    "    '/Users/cudmore/Sites/PyMapManager-Data/maps/rr30a/rr30a_s1/rr30a_s1_la.txt',\n",
    "    '/Users/cudmore/Sites/PyMapManager-Data/maps/rr30a/rr30a_s2/rr30a_s2_la.txt'\n",
    "    '/Users/cudmore/Sites/PyMapManager-Data/maps/rr30a/rr30a_s3/rr30a_s3_la.txt',\n",
    "    '/Users/cudmore/Sites/PyMapManager-Data/maps/rr30a/rr30a_s4/rr30a_s4_la.txt',\n",
    "    ]\n",
    "\n",
    "timepoints = map.getNumTimepoints()\n",
    "numPntsAdded = 0\n",
    "for tpNumber in range(timepoints):\n",
    "    tp = map.getTimePoint(time=tpNumber)\n",
    "    print(f'got tp:{tpNumber} {tp}')\n",
    "\n",
    "    segmentCsv = segmentCsvList[tpNumber]\n",
    "    dfSegments = pd.read_csv(segmentCsv, header=1)\n",
    "\n",
    "    theseCols = ['segmentID', 'x', 'y', 'z']\n",
    "    dfSegments = dfSegments[theseCols]\n",
    "\n",
    "    segments = dfSegments['segmentID'].unique()\n",
    "    for segment in segments:\n",
    "        dfSegment = dfSegments[ dfSegments['segmentID']==segment]\n",
    "\n",
    "        # newSegmentID = map.newSegment()\n",
    "        newSegmentID = tp.newSegment()\n",
    "        newSegmentID = int(newSegmentID)\n",
    "\n",
    "        print(f'  newSegmentID:{newSegmentID}')\n",
    "\n",
    "        continue\n",
    "\n",
    "        for index, row in dfSegment.iterrows():\n",
    "            \n",
    "            # add every 3rd segment point\n",
    "            if index % 3 != 0:\n",
    "                continue\n",
    "            \n",
    "            # segmentID = row['segmentID']  # always equal to segment\n",
    "            x = row['x']\n",
    "            y = row['y']\n",
    "            z = row['z']\n",
    "\n",
    "            # print(f'adding tpNumber:{tpNumber} newSegmentID:{newSegmentID} x:{x} y:{y} z:{z}')\n",
    "            \n",
    "            # map.appendSegmentPoint(newSegmentID, x, y, z)\n",
    "            tp.appendSegmentPoint(newSegmentID, x, y, z)\n",
    "            numPntsAdded += 1\n",
    "        "
   ]
  },
  {
   "cell_type": "code",
   "execution_count": 39,
   "metadata": {},
   "outputs": [
    {
     "name": "stdout",
     "output_type": "stream",
     "text": [
      "numPntsAdded: 2121\n",
      "t:2, points:0 segments:5\n",
      "  tp:0 shape:(2, 70, 1024, 1024)\n",
      "  tp:1 shape:(2, 70, 1024, 1024)\n",
      "\n"
     ]
    }
   ],
   "source": [
    "print('numPntsAdded:', numPntsAdded)\n",
    "print(map)"
   ]
  }
 ],
 "metadata": {
  "kernelspec": {
   "display_name": "mmc-env",
   "language": "python",
   "name": "python3"
  },
  "language_info": {
   "codemirror_mode": {
    "name": "ipython",
    "version": 3
   },
   "file_extension": ".py",
   "mimetype": "text/x-python",
   "name": "python",
   "nbconvert_exporter": "python",
   "pygments_lexer": "ipython3",
   "version": "3.11.9"
  }
 },
 "nbformat": 4,
 "nbformat_minor": 2
}
